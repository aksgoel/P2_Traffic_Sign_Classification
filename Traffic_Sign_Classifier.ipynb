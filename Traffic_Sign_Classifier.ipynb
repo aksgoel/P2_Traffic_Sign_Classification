{
 "cells": [
  {
   "cell_type": "markdown",
   "metadata": {},
   "source": [
    "# Self-Driving Car Engineer Nanodegree\n",
    "\n",
    "## Deep Learning\n",
    "\n",
    "## Project: Build a Traffic Sign Recognition Classifier\n",
    "\n",
    "### Credits:\n",
    "\n",
    "- Udacity for providing a template to implement  functionality in stages which is required to successfully complete this project.\n",
    "- LeNet model architecture by Yann LeCun, Director of AI Research at Facebook\n",
    "- Image brightness augementation techniques by Vivek Yadav, Assistant Professor in Mechanical Engineering and Neurology"
   ]
  },
  {
   "cell_type": "markdown",
   "metadata": {},
   "source": [
    "---\n",
    "## Step 0: Load The Data"
   ]
  },
  {
   "cell_type": "code",
   "execution_count": 1,
   "metadata": {
    "collapsed": false
   },
   "outputs": [],
   "source": [
    "# Load pickled data\n",
    "import pickle\n",
    "\n",
    "# TODO: Fill this in based on where you saved the training and testing data\n",
    "\n",
    "training_file = \"train.p\"\n",
    "testing_file = \"test.p\"\n",
    "\n",
    "mapping = \"signnames.csv\"\n",
    "\n",
    "import csv\n",
    "with open(mapping, 'r') as f:\n",
    "  reader = csv.reader(f)\n",
    "  your_list = list(reader)\n",
    "\n",
    "with open(training_file, mode='rb') as f:\n",
    "    train = pickle.load(f)\n",
    "with open(testing_file, mode='rb') as f:\n",
    "    test = pickle.load(f)\n",
    "\n",
    "X_train, y_train = train['features'], train['labels']\n",
    "X_test, y_test = test['features'], test['labels']\n",
    "\n",
    "assert(len(X_train) == len(y_train))\n",
    "assert(len(X_test) == len(y_test))"
   ]
  },
  {
   "cell_type": "code",
   "execution_count": 2,
   "metadata": {
    "collapsed": false
   },
   "outputs": [
    {
     "name": "stdout",
     "output_type": "stream",
     "text": [
      "(5, 32, 32, 3)\n",
      "(5,)\n"
     ]
    }
   ],
   "source": [
    "#Load Custom Test Data \n",
    "from scipy import misc\n",
    "import numpy as np\n",
    "\n",
    "sign1 = misc.imread('Signs/sign1.png', mode='RGB')\n",
    "sign2 = misc.imread('Signs/sign2.jpg', mode='RGB')\n",
    "sign3 = misc.imread('Signs/sign3.jpg', mode='RGB')\n",
    "sign4 = misc.imread('Signs/sign4.jpg', mode='RGB')\n",
    "sign5 = misc.imread('Signs/sign5.png', mode='RGB')\n",
    "\n",
    "X_final_test = np.array([sign1, sign2, sign3, sign4, sign5])\n",
    "print(X_final_test.shape)\n",
    "X_final_original_test = X_final_test\n",
    "\n",
    "y_final_test = np.array([17, 14, 14, 13, 22])\n",
    "print(y_final_test.shape)    "
   ]
  },
  {
   "cell_type": "markdown",
   "metadata": {},
   "source": [
    "---\n",
    "\n",
    "## Step 1: Dataset Summary & Exploration\n",
    "\n",
    "The pickled data is a dictionary with 4 key/value pairs:\n",
    "\n",
    "- `'features'` is a 4D array containing raw pixel data of the traffic sign images, (num examples, width, height, channels).\n",
    "- `'labels'` is a 2D array containing the label/class id of the traffic sign. The file `signnames.csv` contains id -> name mappings for each id.\n",
    "- `'sizes'` is a list containing tuples, (width, height) representing the the original width and height the image.\n",
    "- `'coords'` is a list containing tuples, (x1, y1, x2, y2) representing coordinates of a bounding box around the sign in the image. **THESE COORDINATES ASSUME THE ORIGINAL IMAGE. THE PICKLED DATA CONTAINS RESIZED VERSIONS (32 by 32) OF THESE IMAGES**\n",
    "\n",
    "Complete the basic data summary below."
   ]
  },
  {
   "cell_type": "code",
   "execution_count": 3,
   "metadata": {
    "collapsed": false
   },
   "outputs": [
    {
     "name": "stdout",
     "output_type": "stream",
     "text": [
      "Number of training examples = 39209\n",
      "Number of testing examples = 12630\n",
      "Image data shape = (32, 32, 3)\n",
      "Number of classes = 43\n"
     ]
    }
   ],
   "source": [
    "### Replace each question mark with the appropriate value.\n",
    "\n",
    "# TODO: Number of training examples\n",
    "n_train = len(X_train)\n",
    "\n",
    "# TODO: Number of testing examples.\n",
    "n_test = len(X_test)\n",
    "\n",
    "# TODO: What's the shape of an traffic sign image?\n",
    "image_shape = X_train[0].shape\n",
    "\n",
    "# TODO: How many unique classes/labels there are in the dataset.\n",
    "n_classes = len(your_list)-1\n",
    "\n",
    "print(\"Number of training examples =\", n_train)\n",
    "print(\"Number of testing examples =\", n_test)\n",
    "print(\"Image data shape =\", image_shape)\n",
    "print(\"Number of classes =\", n_classes)"
   ]
  },
  {
   "cell_type": "markdown",
   "metadata": {},
   "source": [
    "Visualize the German Traffic Signs Dataset using the pickled file(s). This is open ended, suggestions include: plotting traffic sign images, plotting the count of each sign, etc.\n",
    "\n",
    "The [Matplotlib](http://matplotlib.org/) [examples](http://matplotlib.org/examples/index.html) and [gallery](http://matplotlib.org/gallery.html) pages are a great resource for doing visualizations in Python.\n",
    "\n",
    "**NOTE:** It's recommended you start with something simple first. If you wish to do more, come back to it after you've completed the rest of the sections."
   ]
  },
  {
   "cell_type": "markdown",
   "metadata": {},
   "source": [
    "Split Training set to create a validation set"
   ]
  },
  {
   "cell_type": "code",
   "execution_count": 4,
   "metadata": {
    "collapsed": false
   },
   "outputs": [
    {
     "name": "stdout",
     "output_type": "stream",
     "text": [
      "Updated number of training examples = 31367\n",
      "Updated number of validation examples = 7842\n",
      "Updated number of testing examples = 12630\n",
      "Updated Image data shape = (32, 32, 3)\n",
      "\n"
     ]
    }
   ],
   "source": [
    "from sklearn.model_selection import train_test_split\n",
    "\n",
    "X_train, X_validation, y_train, y_validation = train_test_split(X_train, y_train, test_size=0.2, random_state=0)\n",
    "\n",
    "# TODO: Number of training examples\n",
    "n_train = len(X_train)\n",
    "\n",
    "# TODO: Number of validation examples.\n",
    "n_validation = len(X_validation)\n",
    "\n",
    "# TODO: Number of testing examples.\n",
    "n_test = len(X_test)\n",
    "\n",
    "assert(len(X_train) == len(y_train))\n",
    "assert(len(X_validation) == len(y_validation))\n",
    "\n",
    "# TODO: What's the shape of an traffic sign image?\n",
    "image_shape = X_train[0].shape\n",
    "\n",
    "print(\"Updated number of training examples =\", n_train)\n",
    "print(\"Updated number of validation examples =\", n_validation)\n",
    "print(\"Updated number of testing examples =\", n_test)\n",
    "print(\"Updated Image data shape =\", image_shape)\n",
    "print()"
   ]
  },
  {
   "cell_type": "code",
   "execution_count": 5,
   "metadata": {
    "collapsed": false
   },
   "outputs": [
    {
     "name": "stdout",
     "output_type": "stream",
     "text": [
      "42\n"
     ]
    },
    {
     "data": {
      "image/png": "[encoded data removed]",
      "text/plain": [
       "<matplotlib.figure.Figure at 0x7f6207f87b38>"
      ]
     },
     "metadata": {},
     "output_type": "display_data"
    }
   ],
   "source": [
    "### Data exploration visualization goes here.\n",
    "### Feel free to use as many code cells as needed.\n",
    "# Visualizations will be shown in the notebook.\n",
    "\n",
    "import cv2\n",
    "import random\n",
    "import matplotlib.pyplot as plt\n",
    "%matplotlib inline\n",
    "\n",
    "index = random.randint(0, len(X_train))\n",
    "image = X_train[index].squeeze()\n",
    "\n",
    "plt.figure(figsize=(1,1))\n",
    "\n",
    "plt.imshow(image)\n",
    "print(y_train[index])"
   ]
  },
  {
   "cell_type": "markdown",
   "metadata": {},
   "source": [
    "----\n",
    "\n",
    "## Step 2: Design and Test a Model Architecture\n",
    "\n",
    "Design and implement a deep learning model that learns to recognize traffic signs. Train and test your model on the [German Traffic Sign Dataset](http://benchmark.ini.rub.de/?section=gtsrb&subsection=dataset).\n",
    "\n",
    "There are various aspects to consider when thinking about this problem:\n",
    "\n",
    "- Neural network architecture\n",
    "- Play around preprocessing techniques (normalization, rgb to grayscale, etc)\n",
    "- Number of examples per label (some have more than others).\n",
    "- Generate fake data.\n",
    "\n",
    "Here is an example of a [published baseline model on this problem](http://yann.lecun.com/exdb/publis/pdf/sermanet-ijcnn-11.pdf). It's not required to be familiar with the approach used in the paper but, it's good practice to try to read papers like these.\n",
    "\n",
    "**NOTE:** The LeNet-5 implementation shown in the [classroom](https://classroom.udacity.com/nanodegrees/nd013/parts/fbf77062-5703-404e-b60c-95b78b2f3f9e/modules/6df7ae49-c61c-4bb2-a23e-6527e69209ec/lessons/601ae704-1035-4287-8b11-e2c2716217ad/concepts/d4aca031-508f-4e0b-b493-e7b706120f81) at the end of the CNN lesson is a solid starting point. You'll have to change the number of classes and possibly the preprocessing, but aside from that it's plug and play!"
   ]
  },
  {
   "cell_type": "markdown",
   "metadata": {},
   "source": [
    "### Implementation\n",
    "\n",
    "Use the code cell (or multiple code cells, if necessary) to implement the first step of your project. Once you have completed your implementation and are satisfied with the results, be sure to thoroughly answer the questions that follow."
   ]
  },
  {
   "cell_type": "markdown",
   "metadata": {},
   "source": [
    "### Question 1 \n",
    "\n",
    "_Describe how you preprocessed the data. Why did you choose that technique?_"
   ]
  },
  {
   "cell_type": "markdown",
   "metadata": {},
   "source": [
    "**Answer:**"
   ]
  },
  {
   "cell_type": "markdown",
   "metadata": {},
   "source": [
    "1) Preprocess Data"
   ]
  },
  {
   "cell_type": "markdown",
   "metadata": {},
   "source": [
    "A portion of the training dataset, is stored seperately as a validation dataset.\n",
    "\n",
    "Data Preprocessing Techniques include:\n",
    "- Random Shuffling the Data: to reduce bias to original order of training data\n",
    "- Image normalization: to reduce bias on varying image contrast\n",
    "    - This is done by deleting the mean of the image, and then diving by its standard deviation\n",
    "          img = img - np.mean(img)\n",
    "          img = img / np.std(img)\n",
    "- Additional data is generated by augmenting the brightness of the images. Explain in next section."
   ]
  },
  {
   "cell_type": "code",
   "execution_count": 6,
   "metadata": {
    "collapsed": false
   },
   "outputs": [
    {
     "data": {
      "text/plain": [
       "<matplotlib.image.AxesImage at 0x7f61bc64ccf8>"
      ]
     },
     "execution_count": 6,
     "metadata": {},
     "output_type": "execute_result"
    },
    {
     "data": {
      "image/png": "[encoded data removed]",
      "text/plain": [
       "<matplotlib.figure.Figure at 0x7f61e6f96a20>"
      ]
     },
     "metadata": {},
     "output_type": "display_data"
    }
   ],
   "source": [
    "from sklearn.utils import shuffle\n",
    "X_train, y_train = shuffle(X_train, y_train)\n",
    "\n",
    "X_train_gen, y_train_gen = X_train, y_train\n",
    "\n",
    "plt.imshow(X_train[10])"
   ]
  },
  {
   "cell_type": "code",
   "execution_count": 7,
   "metadata": {
    "collapsed": false
   },
   "outputs": [],
   "source": [
    "def normalize(img):\n",
    "    img = img - np.mean(img)\n",
    "    img = img / np.std(img)\n",
    "    return img"
   ]
  },
  {
   "cell_type": "code",
   "execution_count": 8,
   "metadata": {
    "collapsed": false
   },
   "outputs": [],
   "source": [
    "#normalized the data set - leveraging basic preprocessing techniques\n",
    "\n",
    "X_train = normalize(X_train[:,])\n",
    "X_validation = normalize(X_validation[:,])\n",
    "X_test_original = X_test\n",
    "X_test = normalize(X_test[:,])\n",
    "#X_validation = normalize(X_validation[:,:,:,])"
   ]
  },
  {
   "cell_type": "code",
   "execution_count": 9,
   "metadata": {
    "collapsed": false
   },
   "outputs": [
    {
     "name": "stdout",
     "output_type": "stream",
     "text": [
      "(31367, 32, 32, 3)\n"
     ]
    },
    {
     "data": {
      "image/png": "[encoded data removed]",
      "text/plain": [
       "<matplotlib.figure.Figure at 0x7f61c227bcf8>"
      ]
     },
     "metadata": {},
     "output_type": "display_data"
    }
   ],
   "source": [
    "#Validate Image Shape\n",
    "plt.imshow(X_train[10])\n",
    "print(X_train.shape)"
   ]
  },
  {
   "cell_type": "markdown",
   "metadata": {},
   "source": [
    "### Question 2\n",
    "\n",
    "_Describe how you set up the training, validation and testing data for your model. **Optional**: If you generated additional data, how did you generate the data? Why did you generate the data? What are the differences in the new dataset (with generated data) from the original dataset?_"
   ]
  },
  {
   "cell_type": "markdown",
   "metadata": {},
   "source": [
    "**Answer:**"
   ]
  },
  {
   "cell_type": "markdown",
   "metadata": {},
   "source": [
    "The original training dataset is split into training data and validation data by using train_test_split function from sklearn.model_selection library. \n",
    "\n",
    "- I first extracted 20% of training data as validation data:\n",
    "    - Updated number of training examples = 31367\n",
    "    - Updated number of validation examples = 7842\n",
    "\n",
    "- I then generated additional training data by randomly augmenting the image brightness of original dataset. \n",
    "    - Why: to strengthen the model for images with different levels of brightness.\n",
    "    - How: by randomly adjusting the brightness value of images in the HSV colorspace (using opencv)\n",
    "    - I generated an equal amount of new training data and appended this to the existing dataset. \n",
    "    - Note: the additional dataset also undergoes preprocessing: normalization.\n",
    "    - The key difference between the new dataset and existing dataset is the varying level of brightness."
   ]
  },
  {
   "cell_type": "code",
   "execution_count": 31,
   "metadata": {
    "collapsed": true
   },
   "outputs": [],
   "source": [
    "#Generated additional data by randomly adjusting brightness of training data\n",
    "#Leveraged image augement_brightness code from Medium post. Concanetated generated data with original data.\n",
    "\n",
    "#Split the training data using 20% of it as validation dataset...code in In[4]"
   ]
  },
  {
   "cell_type": "code",
   "execution_count": 11,
   "metadata": {
    "collapsed": false
   },
   "outputs": [],
   "source": [
    "def augment_brightness_camera_images(image):\n",
    "    image1 = cv2.cvtColor(image,cv2.COLOR_RGB2HSV)\n",
    "    random_bright = .25+np.random.uniform()\n",
    "    #print(random_bright)\n",
    "    image1[:,:,2] = image1[:,:,2]*random_bright\n",
    "    image1 = cv2.cvtColor(image1,cv2.COLOR_HSV2RGB)\n",
    "    return image1"
   ]
  },
  {
   "cell_type": "code",
   "execution_count": 12,
   "metadata": {
    "collapsed": false
   },
   "outputs": [],
   "source": [
    "for i in range(len(X_train_gen)):\n",
    "    X_train_gen[i] = augment_brightness_camera_images(X_train_gen[i])\n",
    "    \n",
    "X_train_gen = normalize(X_train_gen[:,])"
   ]
  },
  {
   "cell_type": "code",
   "execution_count": 13,
   "metadata": {
    "collapsed": false
   },
   "outputs": [],
   "source": [
    "X_train = np.concatenate((X_train, X_train_gen), axis=0)\n",
    "y_train = np.concatenate((y_train, y_train_gen), axis=0)"
   ]
  },
  {
   "cell_type": "markdown",
   "metadata": {},
   "source": [
    "### Question 3\n",
    "\n",
    "_What does your final architecture look like? (Type of model, layers, sizes, connectivity, etc.)  For reference on how to build a deep neural network using TensorFlow, see [Deep Neural Network in TensorFlow\n",
    "](https://classroom.udacity.com/nanodegrees/nd013/parts/fbf77062-5703-404e-b60c-95b78b2f3f9e/modules/6df7ae49-c61c-4bb2-a23e-6527e69209ec/lessons/b516a270-8600-4f93-a0a3-20dfeabe5da6/concepts/83a3a2a2-a9bd-4b7b-95b0-eb924ab14432) from the classroom._\n"
   ]
  },
  {
   "cell_type": "markdown",
   "metadata": {},
   "source": [
    "**Answer:**"
   ]
  },
  {
   "cell_type": "code",
   "execution_count": 14,
   "metadata": {
    "collapsed": true
   },
   "outputs": [],
   "source": [
    "### Train your model here.\n",
    "### Feel free to use as many code cells as needed."
   ]
  },
  {
   "cell_type": "markdown",
   "metadata": {},
   "source": [
    "2) Setup Tensorflow and Batch Size"
   ]
  },
  {
   "cell_type": "code",
   "execution_count": 15,
   "metadata": {
    "collapsed": true
   },
   "outputs": [],
   "source": [
    "import tensorflow as tf\n",
    "\n",
    "EPOCHS = 30\n",
    "BATCH_SIZE = 128"
   ]
  },
  {
   "cell_type": "markdown",
   "metadata": {},
   "source": [
    "3) Type of model (Architecture): LeNet implementation\n",
    "\n",
    "Input => Conv1 => ReLu => Dropout 75% => Conv2 => ReLu => Dropout 75% => Flatten => Fully Connected => Dropout 75% => Fully Connected => Dropout 75% => Fully Connected => Prediction\n",
    "\n",
    "\n",
    "- Layer 1: Convolutional: The output shape should be 28x28x6. Activation: ReLu. Pooling: The output shape should be 14x14x6.\n",
    "\n",
    "- Improve: Implement dropout @75% to reduce overfitting\n",
    "\n",
    "\n",
    "- Layer 2: Convolutional: The output shape should be 10x10x16. Activation: ReLu. Pooling: The output shape should be 5x5x16.\n",
    "\n",
    "- Improve: Implement dropout @75% to reduce overfitting\n",
    "\n",
    "\n",
    "- Flatten. Flatten the output shape of the final pooling layer such that it's 1D instead of 3D. The easiest way to do is by using tf.contrib.layers.flatten.\n",
    "\n",
    "\n",
    "- Layer 3: Fully Connected: This should have 120 outputs. Activation: ReLu.\n",
    "\n",
    "- Improve: Implement dropout @75% to reduce overfitting\n",
    "\n",
    "\n",
    "- Layer 4: Fully Connected: This should have 84 outputs. Activation: ReLu.\n",
    "\n",
    "- Improve: Implement dropout @75% to reduce overfitting\n",
    "\n",
    "\n",
    "- Layer 5: Fully Connected (Logits): This should have 43 outputs.\n"
   ]
  },
  {
   "cell_type": "code",
   "execution_count": null,
   "metadata": {
    "collapsed": true
   },
   "outputs": [],
   "source": []
  },
  {
   "cell_type": "code",
   "execution_count": 16,
   "metadata": {
    "collapsed": true
   },
   "outputs": [],
   "source": [
    "from tensorflow.contrib.layers import flatten\n",
    "\n",
    "def LeNet(x):    \n",
    "    # Hyperparameters\n",
    "    mu = 0\n",
    "    sigma = 0.1\n",
    "    \n",
    "    # SOLUTION: Layer 1: Convolutional. Input = 32x32x3. Output = 28x28x6.\n",
    "    conv1_W = tf.Variable(tf.truncated_normal(shape=(5, 5, 3, 6), mean = mu, stddev = sigma))\n",
    "    conv1_b = tf.Variable(tf.zeros(6))\n",
    "    conv1   = tf.nn.conv2d(x, conv1_W, strides=[1, 1, 1, 1], padding='VALID') + conv1_b\n",
    "\n",
    "    # SOLUTION: Activation.\n",
    "    conv1 = tf.nn.relu(conv1)\n",
    "\n",
    "    # SOLUTION: Pooling. Input = 28x28x6. Output = 14x14x6.\n",
    "    conv1 = tf.nn.max_pool(conv1, ksize=[1, 2, 2, 1], strides=[1, 2, 2, 1], padding='VALID')    \n",
    "    \n",
    "    #IMPROVE: Dropout \n",
    "    conv1 = tf.nn.dropout(conv1, keep_prob)\n",
    "\n",
    "    # SOLUTION: Layer 2: Convolutional. Output = 10x10x16.\n",
    "    conv2_W = tf.Variable(tf.truncated_normal(shape=(5, 5, 6, 16), mean = mu, stddev = sigma))\n",
    "    conv2_b = tf.Variable(tf.zeros(16))\n",
    "    conv2   = tf.nn.conv2d(conv1, conv2_W, strides=[1, 1, 1, 1], padding='VALID') + conv2_b\n",
    "    \n",
    "    # SOLUTION: Activation.\n",
    "    conv2 = tf.nn.relu(conv2)\n",
    "\n",
    "    # SOLUTION: Pooling. Input = 10x10x16. Output = 5x5x16.\n",
    "    conv2 = tf.nn.max_pool(conv2, ksize=[1, 2, 2, 1], strides=[1, 2, 2, 1], padding='VALID')\n",
    "    \n",
    "    #IMPROVE: Dropout \n",
    "    conv2 = tf.nn.dropout(conv2, keep_prob)\n",
    "\n",
    "    # SOLUTION: Flatten. Input = 5x5x16. Output = 400.\n",
    "    fc0   = flatten(conv2)\n",
    "    \n",
    "    # SOLUTION: Layer 3: Fully Connected. Input = 400. Output = 120.\n",
    "    fc1_W = tf.Variable(tf.truncated_normal(shape=(400, 120), mean = mu, stddev = sigma))\n",
    "    fc1_b = tf.Variable(tf.zeros(120))\n",
    "    fc1   = tf.matmul(fc0, fc1_W) + fc1_b\n",
    "    \n",
    "    # SOLUTION: Activation.\n",
    "    fc1    = tf.nn.relu(fc1)\n",
    "    \n",
    "    #IMPROVE: Dropout \n",
    "    fc1 = tf.nn.dropout(fc1, keep_prob)\n",
    "\n",
    "    # SOLUTION: Layer 4: Fully Connected. Input = 120. Output = 84.\n",
    "    fc2_W  = tf.Variable(tf.truncated_normal(shape=(120, 84), mean = mu, stddev = sigma))\n",
    "    fc2_b  = tf.Variable(tf.zeros(84))\n",
    "    fc2    = tf.matmul(fc1, fc2_W) + fc2_b\n",
    "    \n",
    "    # SOLUTION: Activation.\n",
    "    fc2    = tf.nn.relu(fc2)\n",
    "    \n",
    "    #IMPROVE: Dropout \n",
    "    fc2 = tf.nn.dropout(fc2, keep_prob)\n",
    "\n",
    "    # SOLUTION: Layer 5: Fully Connected. Input = 84. Output = 43.\n",
    "    fc3_W  = tf.Variable(tf.truncated_normal(shape=(84, 43), mean = mu, stddev = sigma))\n",
    "    fc3_b  = tf.Variable(tf.zeros(43))\n",
    "    logits = tf.matmul(fc2, fc3_W) + fc3_b\n",
    "    \n",
    "    return logits"
   ]
  },
  {
   "cell_type": "markdown",
   "metadata": {},
   "source": [
    "4) Features and Labels"
   ]
  },
  {
   "cell_type": "code",
   "execution_count": 17,
   "metadata": {
    "collapsed": true
   },
   "outputs": [],
   "source": [
    "x = tf.placeholder(tf.float32, (None, 32, 32, 3))\n",
    "y = tf.placeholder(tf.int32, (None))\n",
    "one_hot_y = tf.one_hot(y, 43)\n",
    "\n",
    "keep_prob = tf.placeholder(tf.float32) # probability to keep units"
   ]
  },
  {
   "cell_type": "markdown",
   "metadata": {},
   "source": [
    "### Question 4\n",
    "\n",
    "_How did you train your model? (Type of optimizer, batch size, epochs, hyperparameters, etc.)_\n"
   ]
  },
  {
   "cell_type": "markdown",
   "metadata": {},
   "source": [
    "**Answer:**"
   ]
  },
  {
   "cell_type": "markdown",
   "metadata": {},
   "source": [
    "Type of optimizer: Adam optimizer\n",
    "\n",
    "Batch size: 128\n",
    "\n",
    "Epochs: 30\n",
    "\n",
    "Learning Rate: 0.001\n",
    "\n",
    "Hyperparameters: Learning Rate, Batch Size, Dropout Parameter, Activation: fc2, relu, mu = 0, sigma = 0.1"
   ]
  },
  {
   "cell_type": "markdown",
   "metadata": {},
   "source": [
    "5) Training Pipeline"
   ]
  },
  {
   "cell_type": "code",
   "execution_count": 18,
   "metadata": {
    "collapsed": false
   },
   "outputs": [],
   "source": [
    "rate = 0.001\n",
    "\n",
    "logits = LeNet(x)\n",
    "cross_entropy = tf.nn.softmax_cross_entropy_with_logits(logits, one_hot_y)\n",
    "loss_operation = tf.reduce_mean(cross_entropy)\n",
    "optimizer = tf.train.AdamOptimizer(learning_rate = rate)\n",
    "training_operation = optimizer.minimize(loss_operation)"
   ]
  },
  {
   "cell_type": "markdown",
   "metadata": {},
   "source": [
    "6) Model Evaluation"
   ]
  },
  {
   "cell_type": "code",
   "execution_count": 19,
   "metadata": {
    "collapsed": false
   },
   "outputs": [],
   "source": [
    "correct_prediction = tf.equal(tf.argmax(logits, 1), tf.argmax(one_hot_y, 1))\n",
    "accuracy_operation = tf.reduce_mean(tf.cast(correct_prediction, tf.float32))\n",
    "saver = tf.train.Saver()\n",
    "\n",
    "def evaluate(X_data, y_data):\n",
    "    num_examples = len(X_data)\n",
    "    total_accuracy = 0\n",
    "    sess = tf.get_default_session()\n",
    "    for offset in range(0, num_examples, BATCH_SIZE):\n",
    "        batch_x, batch_y = X_data[offset:offset+BATCH_SIZE], y_data[offset:offset+BATCH_SIZE]\n",
    "        accuracy = sess.run(accuracy_operation, feed_dict={x: batch_x, y: batch_y, keep_prob: 1})\n",
    "        total_accuracy += (accuracy * len(batch_x))\n",
    "    return total_accuracy / num_examples"
   ]
  },
  {
   "cell_type": "markdown",
   "metadata": {},
   "source": [
    "7) Train the Model"
   ]
  },
  {
   "cell_type": "code",
   "execution_count": 20,
   "metadata": {
    "collapsed": false
   },
   "outputs": [
    {
     "name": "stdout",
     "output_type": "stream",
     "text": [
      "Training...\n",
      "\n",
      "EPOCH 1 ...\n",
      "Validation Accuracy = 0.802\n",
      "\n",
      "EPOCH 2 ...\n",
      "Validation Accuracy = 0.912\n",
      "\n",
      "EPOCH 3 ...\n",
      "Validation Accuracy = 0.943\n",
      "\n",
      "EPOCH 4 ...\n",
      "Validation Accuracy = 0.958\n",
      "\n",
      "EPOCH 5 ...\n",
      "Validation Accuracy = 0.967\n",
      "\n",
      "EPOCH 6 ...\n",
      "Validation Accuracy = 0.971\n",
      "\n",
      "EPOCH 7 ...\n",
      "Validation Accuracy = 0.976\n",
      "\n",
      "EPOCH 8 ...\n",
      "Validation Accuracy = 0.979\n",
      "\n",
      "EPOCH 9 ...\n",
      "Validation Accuracy = 0.979\n",
      "\n",
      "EPOCH 10 ...\n",
      "Validation Accuracy = 0.981\n",
      "\n",
      "EPOCH 11 ...\n",
      "Validation Accuracy = 0.980\n",
      "\n",
      "EPOCH 12 ...\n",
      "Validation Accuracy = 0.986\n",
      "\n",
      "EPOCH 13 ...\n",
      "Validation Accuracy = 0.985\n",
      "\n",
      "EPOCH 14 ...\n",
      "Validation Accuracy = 0.987\n",
      "\n",
      "EPOCH 15 ...\n",
      "Validation Accuracy = 0.985\n",
      "\n",
      "EPOCH 16 ...\n",
      "Validation Accuracy = 0.986\n",
      "\n",
      "EPOCH 17 ...\n",
      "Validation Accuracy = 0.987\n",
      "\n",
      "EPOCH 18 ...\n",
      "Validation Accuracy = 0.986\n",
      "\n",
      "EPOCH 19 ...\n",
      "Validation Accuracy = 0.989\n",
      "\n",
      "EPOCH 20 ...\n",
      "Validation Accuracy = 0.990\n",
      "\n",
      "EPOCH 21 ...\n",
      "Validation Accuracy = 0.988\n",
      "\n",
      "EPOCH 22 ...\n",
      "Validation Accuracy = 0.988\n",
      "\n",
      "EPOCH 23 ...\n",
      "Validation Accuracy = 0.989\n",
      "\n",
      "EPOCH 24 ...\n",
      "Validation Accuracy = 0.987\n",
      "\n",
      "EPOCH 25 ...\n",
      "Validation Accuracy = 0.990\n",
      "\n",
      "EPOCH 26 ...\n",
      "Validation Accuracy = 0.991\n",
      "\n",
      "EPOCH 27 ...\n",
      "Validation Accuracy = 0.991\n",
      "\n",
      "EPOCH 28 ...\n",
      "Validation Accuracy = 0.991\n",
      "\n",
      "EPOCH 29 ...\n",
      "Validation Accuracy = 0.992\n",
      "\n",
      "EPOCH 30 ...\n",
      "Validation Accuracy = 0.990\n",
      "\n",
      "Model saved\n"
     ]
    }
   ],
   "source": [
    "with tf.Session() as sess:\n",
    "    sess.run(tf.global_variables_initializer())\n",
    "    num_examples = len(X_train)\n",
    "    \n",
    "    print(\"Training...\")\n",
    "    print()\n",
    "    for i in range(EPOCHS):\n",
    "        X_train, y_train = shuffle(X_train, y_train)\n",
    "        for offset in range(0, num_examples, BATCH_SIZE):\n",
    "            end = offset + BATCH_SIZE\n",
    "            batch_x, batch_y = X_train[offset:end], y_train[offset:end]\n",
    "            sess.run(training_operation, feed_dict={x: batch_x, y: batch_y, keep_prob: 0.75})\n",
    "        \n",
    "        validation_accuracy = evaluate(X_validation, y_validation)\n",
    "        print(\"EPOCH {} ...\".format(i+1))\n",
    "        print(\"Validation Accuracy = {:.3f}\".format(validation_accuracy))\n",
    "        print()\n",
    "        \n",
    "    saver.save(sess, 'lenet')\n",
    "    print(\"Model saved\")"
   ]
  },
  {
   "cell_type": "markdown",
   "metadata": {},
   "source": [
    "8) Evaluate the Model"
   ]
  },
  {
   "cell_type": "code",
   "execution_count": 21,
   "metadata": {
    "collapsed": false
   },
   "outputs": [
    {
     "name": "stdout",
     "output_type": "stream",
     "text": [
      "Test Accuracy = 0.956\n"
     ]
    }
   ],
   "source": [
    "with tf.Session() as sess:\n",
    "    loader = tf.train.import_meta_graph('lenet.meta')\n",
    "    saver.restore(sess, tf.train.latest_checkpoint('.'))\n",
    "    \n",
    "    test_accuracy = evaluate(X_test, y_test)\n",
    "    print(\"Test Accuracy = {:.3f}\".format(test_accuracy))"
   ]
  },
  {
   "cell_type": "markdown",
   "metadata": {},
   "source": [
    "### Question 5\n",
    "\n",
    "\n",
    "_What approach did you take in coming up with a solution to this problem? It may have been a process of trial and error, in which case, outline the steps you took to get to the final solution and why you chose those steps. Perhaps your solution involved an already well known implementation or architecture. In this case, discuss why you think this is suitable for the current problem._"
   ]
  },
  {
   "cell_type": "markdown",
   "metadata": {},
   "source": [
    "**Answer:**\n",
    "\n",
    "This is a standard image classification problem. The lenet is a proven model for the same - and goes beyond a standard feedforward network. Thus I decided to leverage the lenet architecture; update activation layers to relu; then focus on removing overfitting by using dropout.\n",
    "\n",
    "- Why Adam: firstly, cause it is a very popular stochastic gradient optimizer. Also the training cost over multiple iterations of a dataset are least for adam when implemented with Relu AND and dropout regularization. Hence making it a very efficient optimizer compared to AdaGrad and RMSProp\n",
    "\n",
    "- Convolutional layer is well suited for this problem: ConvNet architectures make the explicit assumption that the inputs are images, which allows us to encode certain properties into the architecture. These then make the forward function more efficient to implement and vastly reduce the amount of parameters in the network. Since we are dealing with Images in this problem I choose to go with Convolutional layers. \n",
    "\n",
    "- Why ReLu: ReLu is it poses a reduced likelihood of the gradient to vanish, and also offers sparsity (or less dense network) when compared to sigmoid - hence offering speed. \n",
    "\n",
    "- Tuning hyperparameter: \n",
    "  - starting with setting a low learning rate of 0.001; which was offered to the adam optimizer; and then changing from sigmoid to ReLu. I stuck with these settings.\n",
    "  - I chose the standard LeNet architecture to get the layer size, number of neurons, etc.\n",
    "  - Added dropouts to reduce overfitting of model. And played with dropout values.\n",
    "\n",
    "\n",
    "To improve accuracy of model in different brightness cases I then focussed on generating additional test data. "
   ]
  },
  {
   "cell_type": "markdown",
   "metadata": {},
   "source": [
    "---\n",
    "\n",
    "## Step 3: Test a Model on New Images\n",
    "\n",
    "Take several pictures of traffic signs that you find on the web or around you (at least five), and run them through your classifier on your computer to produce example results. The classifier might not recognize some local signs but it could prove interesting nonetheless.\n",
    "\n",
    "You may find `signnames.csv` useful as it contains mappings from the class id (integer) to the actual sign name."
   ]
  },
  {
   "cell_type": "code",
   "execution_count": 22,
   "metadata": {
    "collapsed": false
   },
   "outputs": [],
   "source": [
    "### Load the images and plot them here.\n",
    "### Feel free to use as many code cells as needed."
   ]
  },
  {
   "cell_type": "code",
   "execution_count": 23,
   "metadata": {
    "collapsed": true
   },
   "outputs": [],
   "source": [
    "#label description defination copied from github forum\n",
    "\n",
    "def load_label_file(file):\n",
    "    lines = open(file).readlines()[1:]\n",
    "    lines = [line.strip().split(\",\") for line in lines]\n",
    "    label_descs = dict([ (int(classid), desc) for classid, desc in lines])\n",
    "    return label_descs\n",
    "\n",
    "label_descriptions = load_label_file(\"signnames.csv\")"
   ]
  },
  {
   "cell_type": "code",
   "execution_count": 24,
   "metadata": {
    "collapsed": false
   },
   "outputs": [
    {
     "name": "stdout",
     "output_type": "stream",
     "text": [
      "{0: 'Speed limit (20km/h)', 1: 'Speed limit (30km/h)', 2: 'Speed limit (50km/h)', 3: 'Speed limit (60km/h)', 4: 'Speed limit (70km/h)', 5: 'Speed limit (80km/h)', 6: 'End of speed limit (80km/h)', 7: 'Speed limit (100km/h)', 8: 'Speed limit (120km/h)', 9: 'No passing', 10: 'No passing for vehicles over 3.5 metric tons', 11: 'Right-of-way at the next intersection', 12: 'Priority road', 13: 'Yield', 14: 'Stop', 15: 'No vehicles', 16: 'Vehicles over 3.5 metric tons prohibited', 17: 'No entry', 18: 'General caution', 19: 'Dangerous curve to the left', 20: 'Dangerous curve to the right', 21: 'Double curve', 22: 'Bumpy road', 23: 'Slippery road', 24: 'Road narrows on the right', 25: 'Road work', 26: 'Traffic signals', 27: 'Pedestrians', 28: 'Children crossing', 29: 'Bicycles crossing', 30: 'Beware of ice/snow', 31: 'Wild animals crossing', 32: 'End of all speed and passing limits', 33: 'Turn right ahead', 34: 'Turn left ahead', 35: 'Ahead only', 36: 'Go straight or right', 37: 'Go straight or left', 38: 'Keep right', 39: 'Keep left', 40: 'Roundabout mandatory', 41: 'End of no passing', 42: 'End of no passing by vehicles over 3.5 metric tons'}\n"
     ]
    }
   ],
   "source": [
    "print(label_descriptions)"
   ]
  },
  {
   "cell_type": "code",
   "execution_count": 33,
   "metadata": {
    "collapsed": false
   },
   "outputs": [
    {
     "data": {
      "text/plain": [
       "<matplotlib.text.Text at 0x7f61dbfcc2b0>"
      ]
     },
     "execution_count": 33,
     "metadata": {},
     "output_type": "execute_result"
    },
    {
     "data": {
      "image/png": "[encoded data removed]",
      "text/plain": [
       "<matplotlib.figure.Figure at 0x7f61dbfb5828>"
      ]
     },
     "metadata": {},
     "output_type": "display_data"
    }
   ],
   "source": [
    "#Histogram for training & validation data\n",
    "\n",
    "plt.hist(y_train, bins=list(range(0, 42)))\n",
    "plt.title(\"Histogram for Training & Validation Data\")\n",
    "plt.xlabel(\"Value\")\n",
    "plt.ylabel(\"Frequency\")\n",
    "\n",
    "plt.hist(y_validation, bins=list(range(0, 42)))\n",
    "plt.title(\"Histogram for & Validation Data\")\n",
    "plt.xlabel(\"Value\")\n",
    "plt.ylabel(\"Frequency\")"
   ]
  },
  {
   "cell_type": "markdown",
   "metadata": {},
   "source": [
    "### Question 6\n",
    "\n",
    "_Choose five candidate images of traffic signs and provide them in the report. Are there any particular qualities of the image(s) that might make classification difficult? It could be helpful to plot the images in the notebook._\n",
    "\n"
   ]
  },
  {
   "cell_type": "markdown",
   "metadata": {},
   "source": [
    "**Answer:**\n",
    "\n",
    "The fourth image (Turn left ahead) has a bright orange object on the right in the background. Otherwise the rest seem relatively simple or similar to the remaining training dataset. "
   ]
  },
  {
   "cell_type": "code",
   "execution_count": 26,
   "metadata": {
    "collapsed": false
   },
   "outputs": [
    {
     "data": {
      "text/plain": [
       "<matplotlib.figure.Figure at 0x7f61b16035f8>"
      ]
     },
     "metadata": {},
     "output_type": "display_data"
    },
    {
     "data": {
      "image/png": "[encoded data removed]",
      "text/plain": [
       "<matplotlib.figure.Figure at 0x7f61b1431f98>"
      ]
     },
     "metadata": {},
     "output_type": "display_data"
    },
    {
     "data": {
      "image/png": "[encoded data removed]",
      "text/plain": [
       "<matplotlib.figure.Figure at 0x7f61b15fbb38>"
      ]
     },
     "metadata": {},
     "output_type": "display_data"
    },
    {
     "data": {
      "image/png": "[encoded data removed]",
      "text/plain": [
       "<matplotlib.figure.Figure at 0x7f61b17a47b8>"
      ]
     },
     "metadata": {},
     "output_type": "display_data"
    },
    {
     "data": {
      "image/png": "[encoded data removed]",
      "text/plain": [
       "<matplotlib.figure.Figure at 0x7f61b116ab00>"
      ]
     },
     "metadata": {},
     "output_type": "display_data"
    },
    {
     "data": {
      "image/png": "[encoded data removed]",
      "text/plain": [
       "<matplotlib.figure.Figure at 0x7f61b1223a58>"
      ]
     },
     "metadata": {},
     "output_type": "display_data"
    }
   ],
   "source": [
    "### Run the predictions here.\n",
    "### Feel free to use as many code cells as needed.\n",
    "\n",
    "# Pick 5  images\n",
    "sample_indexes = [500, 1000, 1500, 2000, 2500]\n",
    "y_truth = []\n",
    "\n",
    "for img in sample_indexes:\n",
    "    y_truth.append(y_test[img])\n",
    "\n",
    "fig = plt.figure(figsize=(10, 10))\n",
    "intCount = 0\n",
    "for image in sample_indexes:\n",
    "    plt.figure(figsize=(1,1))\n",
    "    plt.axis('off')\n",
    "    color='green'\n",
    "    plt.text(40, 10, \"Truth:        {0}\\nName:   {1}\".format(y_test[image], label_descriptions.get(y_test[image])), \n",
    "             fontsize=12, color=color)\n",
    "    \n",
    "    plt.imshow(X_test_original[image])\n",
    "    \n",
    "    intCount += 1"
   ]
  },
  {
   "cell_type": "markdown",
   "metadata": {},
   "source": [
    "### Question 7\n",
    "\n",
    "_Is your model able to perform equally well on captured pictures when compared to testing on the dataset? The simplest way to do this check the accuracy of the predictions. For example, if the model predicted 1 out of 5 signs correctly, it's 20% accurate._\n",
    "\n",
    "_**NOTE:** You could check the accuracy manually by using `signnames.csv` (same directory). This file has a mapping from the class id (0-42) to the corresponding sign name. So, you could take the class id the model outputs, lookup the name in `signnames.csv` and see if it matches the sign from the image._\n"
   ]
  },
  {
   "cell_type": "markdown",
   "metadata": {},
   "source": [
    "**Answer:**\n",
    "\n",
    "- Captured Image Test Accuracy = 60% vs. Test Evaluation Accuracy = 95.6%. Here the third and fifth images are predicted incorrectly and hence the model did not work well in real world scenarious. The possible reasons could be:\n",
    "\n",
    "    - Wrong predction for Third image: the actual road sign has of lower resolution (as it captures a smaller portion of the test image). The image also looks jittery. Improving model and image augmentation techniques should help in this scenario.\n",
    "\n",
    "    - Wrong prediction for Fifth image: model is probably confused due to the large white colored board present under the road sign (probably cause the feature representing the road bump is jittered). Hence the an image segmentation piece might improve the model."
   ]
  },
  {
   "cell_type": "code",
   "execution_count": 27,
   "metadata": {
    "collapsed": false
   },
   "outputs": [
    {
     "data": {
      "text/plain": [
       "<matplotlib.figure.Figure at 0x7f61b143c9b0>"
      ]
     },
     "metadata": {},
     "output_type": "display_data"
    },
    {
     "data": {
      "image/png": "[encoded data removed]",
      "text/plain": [
       "<matplotlib.figure.Figure at 0x7f61b14491d0>"
      ]
     },
     "metadata": {},
     "output_type": "display_data"
    },
    {
     "data": {
      "image/png": "[encoded data removed]",
      "text/plain": [
       "<matplotlib.figure.Figure at 0x7f61b1312eb8>"
      ]
     },
     "metadata": {},
     "output_type": "display_data"
    },
    {
     "data": {
      "image/png": "[encoded data removed]",
      "text/plain": [
       "<matplotlib.figure.Figure at 0x7f61b12deb70>"
      ]
     },
     "metadata": {},
     "output_type": "display_data"
    },
    {
     "data": {
      "image/png": "[encoded data removed]",
      "text/plain": [
       "<matplotlib.figure.Figure at 0x7f61dc09c9e8>"
      ]
     },
     "metadata": {},
     "output_type": "display_data"
    },
    {
     "data": {
      "image/png": "[encoded data removed]",
      "text/plain": [
       "<matplotlib.figure.Figure at 0x7f61dc07a2e8>"
      ]
     },
     "metadata": {},
     "output_type": "display_data"
    }
   ],
   "source": [
    "# Pick 5  images\n",
    "sample_indexes = [0, 1, 2, 3, 4]\n",
    "y_truth = []\n",
    "\n",
    "for img in sample_indexes:\n",
    "    y_truth.append(y_final_test[img])\n",
    "\n",
    "fig = plt.figure(figsize=(10, 10))\n",
    "intCount = 0\n",
    "\n",
    "for image in sample_indexes:\n",
    "    plt.figure(figsize=(1,1))\n",
    "    plt.axis('off')\n",
    "    color='green'\n",
    "    plt.text(40, 10, \"Truth:        {0}\\nName:   {1}\".format(y_final_test[image], label_descriptions.get(y_final_test[image])), \n",
    "             fontsize=12, color=color)\n",
    "    \n",
    "    plt.imshow(X_final_original_test[image])\n",
    "    \n",
    "    intCount += 1"
   ]
  },
  {
   "cell_type": "code",
   "execution_count": 28,
   "metadata": {
    "collapsed": false
   },
   "outputs": [
    {
     "name": "stdout",
     "output_type": "stream",
     "text": [
      "Test Accuracy = 0.600\n"
     ]
    }
   ],
   "source": [
    "### Visualize the softmax probabilities here.\n",
    "### Feel free to use as many code cells as needed.\n",
    "X_final_test = normalize(X_final_test[:,])\n",
    "\n",
    "with tf.Session() as sess:\n",
    "    loader = tf.train.import_meta_graph('lenet.meta')\n",
    "    saver.restore(sess, tf.train.latest_checkpoint('.'))\n",
    "    \n",
    "    test_accuracy = evaluate(X_final_test, y_final_test)\n",
    "    print(\"Test Accuracy = {:.3f}\".format(test_accuracy))"
   ]
  },
  {
   "cell_type": "markdown",
   "metadata": {},
   "source": [
    "### Question 8\n",
    "\n",
    "*Use the model's softmax probabilities to visualize the **certainty** of its predictions, [`tf.nn.top_k`](https://www.tensorflow.org/versions/r0.12/api_docs/python/nn.html#top_k) could prove helpful here. Which predictions is the model certain of? Uncertain? If the model was incorrect in its initial prediction, does the correct prediction appear in the top k? (k should be 5 at most)*\n",
    "\n",
    "`tf.nn.top_k` will return the values and indices (class ids) of the top k predictions. So if k=3, for each sign, it'll return the 3 largest probabilities (out of a possible 43) and the correspoding class ids.\n",
    "\n",
    "Take this numpy array as an example:\n",
    "\n",
    "```\n",
    "# (5, 6) array\n",
    "a = np.array([[ 0.24879643,  0.07032244,  0.12641572,  0.34763842,  0.07893497,\n",
    "         0.12789202],\n",
    "       [ 0.28086119,  0.27569815,  0.08594638,  0.0178669 ,  0.18063401,\n",
    "         0.15899337],\n",
    "       [ 0.26076848,  0.23664738,  0.08020603,  0.07001922,  0.1134371 ,\n",
    "         0.23892179],\n",
    "       [ 0.11943333,  0.29198961,  0.02605103,  0.26234032,  0.1351348 ,\n",
    "         0.16505091],\n",
    "       [ 0.09561176,  0.34396535,  0.0643941 ,  0.16240774,  0.24206137,\n",
    "         0.09155967]])\n",
    "```\n",
    "\n",
    "Running it through `sess.run(tf.nn.top_k(tf.constant(a), k=3))` produces:\n",
    "\n",
    "```\n",
    "TopKV2(values=array([[ 0.34763842,  0.24879643,  0.12789202],\n",
    "       [ 0.28086119,  0.27569815,  0.18063401],\n",
    "       [ 0.26076848,  0.23892179,  0.23664738],\n",
    "       [ 0.29198961,  0.26234032,  0.16505091],\n",
    "       [ 0.34396535,  0.24206137,  0.16240774]]), indices=array([[3, 0, 5],\n",
    "       [0, 1, 4],\n",
    "       [0, 5, 1],\n",
    "       [1, 3, 5],\n",
    "       [1, 4, 3]], dtype=int32))\n",
    "```\n",
    "\n",
    "Looking just at the first row we get `[ 0.34763842,  0.24879643,  0.12789202]`, you can confirm these are the 3 largest probabilities in `a`. You'll also notice `[3, 0, 5]` are the corresponding indices."
   ]
  },
  {
   "cell_type": "markdown",
   "metadata": {},
   "source": [
    "**Answer:**"
   ]
  },
  {
   "cell_type": "code",
   "execution_count": 29,
   "metadata": {
    "collapsed": false
   },
   "outputs": [
    {
     "name": "stdout",
     "output_type": "stream",
     "text": [
      "Raw Logits: [[ -3.00469971e+01  -5.62755823e+00  -2.45216007e+01  -1.96254349e+01\n",
      "   -2.49031124e+01  -1.31455889e+01  -3.64783440e+01  -2.14756241e+01\n",
      "   -2.03997803e+01  -1.29205549e+00  -3.95860028e+00  -1.24185162e+01\n",
      "    2.64201031e+01  -1.34597683e+01   2.60412846e+01  -1.79099064e+01\n",
      "   -2.57082863e+01   3.57220993e+01  -2.22896309e+01  -5.34446335e+01\n",
      "   -2.79999466e+01  -3.28239326e+01  -6.23138857e+00  -2.88122253e+01\n",
      "   -7.57640381e+01  -1.91630211e+01  -2.35840340e+01  -7.18315201e+01\n",
      "   -4.09924316e+01   2.59897798e-01  -1.75936089e+01  -4.70879440e+01\n",
      "   -1.58057327e+01  -5.51169205e+01  -2.68248158e+01  -2.28459415e+01\n",
      "   -4.03653526e+01  -5.65849915e+01  -1.06660318e+01  -5.89771461e+01\n",
      "   -2.00875874e+01  -2.01363983e+01  -1.66402321e+01]\n",
      " [ -5.27901649e+00   1.91309601e-01  -2.70719242e+00  -4.42724037e+00\n",
      "   -5.20459080e+00   1.84403509e-01  -2.06763458e+01  -6.24097157e+00\n",
      "   -3.76834482e-01  -2.02932668e+00  -3.04345775e+00  -8.34262466e+00\n",
      "   -8.21350574e-01  -5.77694511e+00   1.38015184e+01  -4.70128107e+00\n",
      "   -9.42471313e+00   7.43408537e+00  -7.22537565e+00  -2.15868912e+01\n",
      "   -7.81595421e+00  -1.39807091e+01  -5.33739042e+00  -1.14127312e+01\n",
      "   -2.15758781e+01  -1.55484641e+00  -8.38493729e+00  -2.47487984e+01\n",
      "   -1.17650290e+01  -4.94447088e+00  -1.26612625e+01  -1.64406567e+01\n",
      "   -1.11814957e+01  -1.77544060e+01  -1.26671915e+01  -1.26225605e+01\n",
      "   -1.64409599e+01  -2.79090347e+01  -9.45911407e+00  -2.44692936e+01\n",
      "   -1.60134315e+01  -1.54468193e+01  -1.81077213e+01]\n",
      " [ -3.74541092e+00   1.15805030e+00   1.37593997e+00  -1.26054239e+00\n",
      "   -1.93658721e+00   2.77251053e+00  -7.40564394e+00  -1.87532616e+00\n",
      "    9.30858493e-01  -2.22896981e+00  -3.58568072e+00  -6.70231199e+00\n",
      "    1.91762173e+00  -2.31783938e+00   2.57741547e+00  -4.78664541e+00\n",
      "   -4.45541382e+00   1.14299834e+00  -6.54221487e+00  -1.21879787e+01\n",
      "   -5.79725075e+00  -8.52545738e+00  -6.99922705e+00  -6.98930836e+00\n",
      "   -1.36661873e+01  -5.14696121e+00  -5.66549110e+00  -1.43237419e+01\n",
      "   -8.11343765e+00  -3.22446394e+00  -1.13506794e+01  -1.05768871e+01\n",
      "   -8.36113644e+00  -9.72141457e+00  -8.89090919e+00  -5.26617622e+00\n",
      "   -8.26163387e+00  -1.22831030e+01  -3.88771987e+00  -1.10753422e+01\n",
      "   -7.24595594e+00  -8.01291275e+00  -8.06267262e+00]\n",
      " [ -6.02171373e+00  -1.71647203e+00  -6.20770979e+00  -6.46382523e+00\n",
      "   -5.08072042e+00  -6.63675261e+00  -1.18476810e+01  -4.77318382e+00\n",
      "   -7.40159988e+00  -3.62456590e-01  -3.23311591e+00  -9.16534305e-01\n",
      "    2.71933508e+00   2.93180895e+00  -2.27158785e+00  -3.72388196e+00\n",
      "   -6.96667671e+00   1.22115636e+00  -1.92655742e+00  -5.74936104e+00\n",
      "   -3.86612272e+00  -3.15668082e+00   1.82085466e+00  -3.64954782e+00\n",
      "   -7.63566637e+00   5.04284739e-01  -2.42752290e+00  -7.17302990e+00\n",
      "   -1.09374762e+00  -6.06316447e-01   1.39059156e-01  -7.19041252e+00\n",
      "   -3.51056051e+00  -1.19283791e+01  -2.73055768e+00  -2.69712520e+00\n",
      "   -4.00177622e+00  -8.97140312e+00   3.84311527e-02  -1.02210760e+01\n",
      "   -4.21176672e+00  -2.88835073e+00  -6.37998104e+00]\n",
      " [ -4.13596058e+00  -1.10094154e+00  -1.63237429e+00  -6.64127016e+00\n",
      "   -4.82257843e+00  -5.24452877e+00  -1.06251516e+01  -4.35879517e+00\n",
      "   -6.85233021e+00   3.44543290e+00   2.86551833e-01  -5.87210560e+00\n",
      "   -5.04586411e+00  -3.31310105e+00  -1.00320215e+01  -4.56203413e+00\n",
      "    3.52844453e+00  -1.23732233e+00  -6.39724350e+00  -6.65235043e+00\n",
      "   -2.19068289e+00  -6.61578131e+00  -7.48505116e+00  -1.04520094e+00\n",
      "   -8.17575836e+00  -2.09578466e+00  -8.52369308e+00  -1.01472359e+01\n",
      "   -6.18845940e+00  -8.36881638e+00  -5.51742458e+00  -5.78630400e+00\n",
      "   -6.28492069e+00  -6.53032780e+00  -2.81017542e+00  -4.59659243e+00\n",
      "   -4.64461374e+00  -5.29329872e+00   3.99729788e-01  -5.64690399e+00\n",
      "   -3.77081442e+00   1.04128122e-02  -4.14960289e+00]]\n",
      "\n",
      "Top k Raw Logits: TopKV2(values=array([[  3.57220993e+01,   2.64201031e+01,   2.60412846e+01,\n",
      "          2.59897798e-01,  -1.29205549e+00],\n",
      "       [  1.38015184e+01,   7.43408537e+00,   1.91309601e-01,\n",
      "          1.84403509e-01,  -3.76834482e-01],\n",
      "       [  2.77251053e+00,   2.57741547e+00,   1.91762173e+00,\n",
      "          1.37593997e+00,   1.15805030e+00],\n",
      "       [  2.93180895e+00,   2.71933508e+00,   1.82085466e+00,\n",
      "          1.22115636e+00,   5.04284739e-01],\n",
      "       [  3.52844453e+00,   3.44543290e+00,   3.99729788e-01,\n",
      "          2.86551833e-01,   1.04128122e-02]], dtype=float32), indices=array([[17, 12, 14, 29,  9],\n",
      "       [14, 17,  1,  5,  8],\n",
      "       [ 5, 14, 12,  2,  1],\n",
      "       [13, 12, 22, 17, 25],\n",
      "       [16,  9, 38, 10, 41]], dtype=int32))\n",
      "\n",
      "Softmax Logits: [[  2.73386869e-29   1.10155084e-18   6.86163464e-27   9.17919437e-25\n",
      "    4.68530106e-27   5.98365259e-22   4.40231215e-32   1.44303749e-25\n",
      "    4.23165894e-25   8.41180876e-17   5.84554394e-18   1.23802321e-21\n",
      "    9.12278847e-05   4.37037524e-22   6.24609893e-05   5.10328674e-24\n",
      "    2.09438141e-27   9.99846339e-01   6.39379899e-26   0.00000000e+00\n",
      "    2.11738736e-28   1.70125009e-30   6.02233911e-19   9.39792905e-29\n",
      "    0.00000000e+00   1.45756636e-24   1.75229334e-26   0.00000000e+00\n",
      "    4.82209548e-34   3.97095901e-16   7.00189232e-24   1.08639652e-36\n",
      "    4.18485251e-23   0.00000000e+00   6.85731353e-28   3.66570197e-26\n",
      "    9.02764325e-34   0.00000000e+00   7.14207289e-21   0.00000000e+00\n",
      "    5.78222718e-25   5.50675744e-25   1.81660988e-23]\n",
      " [  5.16038279e-09   1.22578672e-06   6.75478233e-08   1.20949366e-08\n",
      "    5.55910651e-09   1.21734990e-06   1.06098098e-15   1.97201655e-09\n",
      "    6.94500841e-07   1.33046910e-07   4.82584177e-08   2.41087456e-10\n",
      "    4.45268370e-07   3.13642046e-09   9.98282313e-01   9.19579790e-09\n",
      "    8.17014095e-11   1.71361130e-03   7.36867678e-10   4.26837716e-16\n",
      "    4.08229034e-10   8.58194429e-13   4.86778173e-09   1.11903672e-11\n",
      "    4.31564478e-16   2.13830035e-07   2.31099223e-10   1.80744010e-17\n",
      "    7.86761194e-12   7.21064097e-09   3.21080575e-12   7.33235019e-14\n",
      "    1.41016079e-11   1.97101518e-14   3.19182246e-12   3.33750020e-12\n",
      "    7.33014046e-14   7.66638695e-19   7.89386057e-11   2.39028926e-17\n",
      "    1.12404972e-13   1.98089795e-13   1.38435101e-14]\n",
      " [  4.75123641e-04   6.40254766e-02   7.96124712e-02   5.70126623e-03\n",
      "    2.89980485e-03   3.21739197e-01   1.22232823e-05   3.08300438e-03\n",
      "    5.10134436e-02   2.16465537e-03   5.57412219e-04   2.46967957e-05\n",
      "    1.36845484e-01   1.98058272e-03   2.64712989e-01   1.67727500e-04\n",
      "    2.33591098e-04   6.30689859e-02   2.89847740e-05   1.02387290e-07\n",
      "    6.10525676e-05   3.98895236e-06   1.83523662e-05   1.85353110e-05\n",
      "    2.33489956e-08   1.16982548e-04   6.96508505e-05   1.20975070e-08\n",
      "    6.02277623e-06   7.99928268e-04   2.36526887e-07   5.12783743e-07\n",
      "    4.70134955e-06   1.20631648e-06   2.76786659e-06   1.03835693e-04\n",
      "    5.19321065e-06   9.30966593e-08   4.12099966e-04   3.11499946e-07\n",
      "    1.43396674e-05   6.65969219e-06   6.33641639e-06]\n",
      " [  4.82476971e-05   3.57453199e-03   4.00589415e-05   3.10077448e-05\n",
      "    1.23635939e-04   2.60836623e-05   1.42328318e-07   1.68153609e-04\n",
      "    1.21394723e-05   1.38439722e-02   7.84421165e-04   7.95477256e-03\n",
      "    3.01762879e-01   3.73200357e-01   2.05180235e-03   4.80188872e-04\n",
      "    1.87535970e-05   6.74551427e-02   2.89721205e-03   6.33516684e-05\n",
      "    4.16521885e-04   8.46729439e-04   1.22874208e-01   5.17243461e-04\n",
      "    9.60607213e-06   3.29368263e-02   1.75555202e-03   1.52568928e-05\n",
      "    6.66292710e-03   1.08480994e-02   2.28594728e-02   1.49939942e-05\n",
      "    5.94369543e-04   1.31293916e-07   1.29660405e-03   1.34068611e-03\n",
      "    3.63684056e-04   2.52605582e-06   2.06711218e-02   7.23963183e-07\n",
      "    2.94799363e-04   1.10733416e-03   3.37196325e-05]\n",
      " [  2.25452517e-04   4.68972139e-03   2.75644055e-03   1.84082601e-05\n",
      "    1.13464688e-04   7.44063509e-05   3.42637748e-07   1.80417730e-04\n",
      "    1.49056450e-05   4.42193478e-01   1.87813882e-02   3.97243602e-05\n",
      "    9.07588474e-05   5.13355655e-04   6.20052333e-07   1.47235813e-04\n",
      "    4.80467290e-01   4.09182906e-03   2.34959170e-05   1.82054264e-05\n",
      "    1.57716894e-03   1.88834983e-05   7.91705224e-06   4.95855091e-03\n",
      "    3.96819678e-06   1.73417141e-03   2.80212225e-06   5.52575159e-07\n",
      "    2.89511736e-05   3.27151702e-06   5.66360395e-05   4.32832458e-05\n",
      "    2.62889698e-05   2.05681208e-05   8.48860014e-04   1.42234523e-04\n",
      "    1.35565628e-04   7.08646257e-05   2.10319851e-02   4.97577457e-05\n",
      "    3.24814842e-04   1.42495818e-02   2.22397706e-04]]\n",
      "\n",
      "Top k Softmax Logits: TopKV2(values=array([[  9.99846339e-01,   9.12278847e-05,   6.24609893e-05,\n",
      "          3.97095901e-16,   8.41180876e-17],\n",
      "       [  9.98282313e-01,   1.71361130e-03,   1.22578672e-06,\n",
      "          1.21734990e-06,   6.94500841e-07],\n",
      "       [  3.21739197e-01,   2.64712989e-01,   1.36845484e-01,\n",
      "          7.96124712e-02,   6.40254766e-02],\n",
      "       [  3.73200357e-01,   3.01762879e-01,   1.22874208e-01,\n",
      "          6.74551427e-02,   3.29368263e-02],\n",
      "       [  4.80467290e-01,   4.42193478e-01,   2.10319851e-02,\n",
      "          1.87813882e-02,   1.42495818e-02]], dtype=float32), indices=array([[17, 12, 14, 29,  9],\n",
      "       [14, 17,  1,  5,  8],\n",
      "       [ 5, 14, 12,  2,  1],\n",
      "       [13, 12, 22, 17, 25],\n",
      "       [16,  9, 38, 10, 41]], dtype=int32))\n"
     ]
    }
   ],
   "source": [
    "# Raw Logits\n",
    "\n",
    "with tf.Session() as sess:\n",
    "    \n",
    "    saver.restore(sess, tf.train.latest_checkpoint('.'))\n",
    "    \n",
    "    raw_logits_result = sess.run(logits, feed_dict={x: X_final_test, keep_prob: 1.0})\n",
    "    \n",
    "    top_k = tf.nn.top_k(logits, k=5)\n",
    "    top_k_result = sess.run(top_k, feed_dict={x: X_final_test, keep_prob: 1.0})\n",
    "    \n",
    "    softmax_logits = tf.nn.softmax(logits)\n",
    "    softmax_logits_result = sess.run(softmax_logits, feed_dict={x: X_final_test, keep_prob: 1.0})\n",
    "    \n",
    "    topk_softmax = tf.nn.top_k(softmax_logits, k = 5)\n",
    "    topk_softmax_result = sess.run(topk_softmax, feed_dict={x: X_final_test, keep_prob: 1.0})\n",
    "    \n",
    "\n",
    "print(\"Raw Logits:\", raw_logits_result)\n",
    "print(\"\")\n",
    "print(\"Top k Raw Logits:\", top_k_result)\n",
    "print(\"\")\n",
    "print(\"Softmax Logits:\", softmax_logits_result)\n",
    "print(\"\")\n",
    "print(\"Top k Softmax Logits:\", topk_softmax_result)"
   ]
  },
  {
   "cell_type": "code",
   "execution_count": 32,
   "metadata": {
    "collapsed": false
   },
   "outputs": [
    {
     "data": {
      "image/png": "[encoded data removed]",
      "text/plain": [
       "<matplotlib.figure.Figure at 0x7f61dbcf2f98>"
      ]
     },
     "metadata": {},
     "output_type": "display_data"
    }
   ],
   "source": [
    "plt.figure(figsize=(10, 20))\n",
    "\n",
    "plt.subplot(911)\n",
    "plt.plot(softmax_logits_result[0])\n",
    "plt.title(\"top5 image 0\")\n",
    "plt.xlabel(\"Classes\")\n",
    "plt.ylabel(\"SoftMax Probablities\")\n",
    "\n",
    "plt.subplot(913)\n",
    "plt.plot(softmax_logits_result[1])\n",
    "plt.title(\"top5 image 1\")\n",
    "plt.xlabel(\"Classes\")\n",
    "plt.ylabel(\"SoftMax Probablities\")\n",
    "\n",
    "plt.subplot(915)\n",
    "plt.plot(softmax_logits_result[2])\n",
    "plt.title(\"top5 image 2\")\n",
    "plt.xlabel(\"Classes\")\n",
    "plt.ylabel(\"SoftMax Probablities\")\n",
    "\n",
    "plt.subplot(917)\n",
    "plt.plot(softmax_logits_result[3])\n",
    "plt.title(\"top5 image 3\")\n",
    "plt.xlabel(\"Classes\")\n",
    "plt.ylabel(\"SoftMax Probablities\")\n",
    "\n",
    "plt.subplot(919)\n",
    "plt.plot(softmax_logits_result[4])\n",
    "plt.title(\"top5 image 4\")\n",
    "plt.xlabel(\"Classes\")\n",
    "plt.ylabel(\"SoftMax Probablities\")\n",
    "\n",
    "plt.show()"
   ]
  },
  {
   "cell_type": "markdown",
   "metadata": {},
   "source": [
    "As seen in the soft_max probablities The classifier struggled in image 3, 4 and 5.\n",
    "\n",
    "image 0: certain\n",
    "\n",
    "image 1: certain\n",
    "\n",
    "image 2: uncertain and wrong - image has odd contrast and looks jittery - need to investigate further, as this looks like a standard stop sign.\n",
    "\n",
    "image 3: uncertain but accurate: also also detected the smaller sign in the background as top class 2. Proves that the model is working well here.\n",
    "\n",
    "image 4: uncertain and wrong - model is probably confused due to the white box, model did not present the correct class in top 5 (probably cause the feature representing the road bump is jittered)"
   ]
  },
  {
   "cell_type": "markdown",
   "metadata": {},
   "source": [
    "> **Note**: Once you have completed all of the code implementations and successfully answered each question above, you may finalize your work by exporting the iPython Notebook as an HTML document. You can do this by using the menu above and navigating to  \\n\",\n",
    "    \"**File -> Download as -> HTML (.html)**. Include the finished document along with this notebook as your submission."
   ]
  }
 ],
 "metadata": {
  "anaconda-cloud": {},
  "kernelspec": {
   "display_name": "Python [conda env:carnd-term1]",
   "language": "python",
   "name": "conda-env-carnd-term1-py"
  },
  "language_info": {
   "codemirror_mode": {
    "name": "ipython",
    "version": 3
   },
   "file_extension": ".py",
   "mimetype": "text/x-python",
   "name": "python",
   "nbconvert_exporter": "python",
   "pygments_lexer": "ipython3",
   "version": "3.5.2"
  }
 },
 "nbformat": 4,
 "nbformat_minor": 1
}
